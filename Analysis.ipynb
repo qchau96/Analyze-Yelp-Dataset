{
 "cells": [
  {
   "cell_type": "markdown",
   "metadata": {},
   "source": [
    "# I. Installation & Initial Set up\n",
    "\n",
    "Check to see what packages are already included"
   ]
  },
  {
   "cell_type": "code",
   "execution_count": 1,
   "metadata": {},
   "outputs": [
    {
     "data": {
      "application/vnd.jupyter.widget-view+json": {
       "model_id": "c69da2702dde4935950bf43a1cfe0088",
       "version_major": 2,
       "version_minor": 0
      },
      "text/plain": [
       "VBox()"
      ]
     },
     "metadata": {},
     "output_type": "display_data"
    },
    {
     "name": "stdout",
     "output_type": "stream",
     "text": [
      "Starting Spark application\n"
     ]
    },
    {
     "data": {
      "text/html": [
       "<table>\n",
       "<tr><th>ID</th><th>YARN Application ID</th><th>Kind</th><th>State</th><th>Spark UI</th><th>Driver log</th><th>Current session?</th></tr><tr><td>21</td><td>application_1588088735392_0022</td><td>pyspark</td><td>idle</td><td><a target=\"_blank\" href=\"http://ip-172-31-28-115.us-east-2.compute.internal:20888/proxy/application_1588088735392_0022/\">Link</a></td><td><a target=\"_blank\" href=\"http://ip-172-31-29-252.us-east-2.compute.internal:8042/node/containerlogs/container_1588088735392_0022_01_000001/livy\">Link</a></td><td>✔</td></tr></table>"
      ],
      "text/plain": [
       "<IPython.core.display.HTML object>"
      ]
     },
     "metadata": {},
     "output_type": "display_data"
    },
    {
     "data": {
      "application/vnd.jupyter.widget-view+json": {
       "model_id": "",
       "version_major": 2,
       "version_minor": 0
      },
      "text/plain": [
       "FloatProgress(value=0.0, bar_style='info', description='Progress:', layout=Layout(height='25px', width='50%'),…"
      ]
     },
     "metadata": {},
     "output_type": "display_data"
    },
    {
     "name": "stdout",
     "output_type": "stream",
     "text": [
      "SparkSession available as 'spark'.\n"
     ]
    },
    {
     "data": {
      "application/vnd.jupyter.widget-view+json": {
       "model_id": "",
       "version_major": 2,
       "version_minor": 0
      },
      "text/plain": [
       "FloatProgress(value=0.0, bar_style='info', description='Progress:', layout=Layout(height='25px', width='50%'),…"
      ]
     },
     "metadata": {},
     "output_type": "display_data"
    },
    {
     "name": "stdout",
     "output_type": "stream",
     "text": [
      "Package                    Version\n",
      "-------------------------- -------\n",
      "beautifulsoup4             4.8.1\n",
      "boto                       2.49.0\n",
      "jmespath                   0.9.4\n",
      "lxml                       4.4.2\n",
      "mysqlclient                1.4.6\n",
      "nltk                       3.4.5\n",
      "nose                       1.3.4\n",
      "numpy                      1.14.5\n",
      "pip                        20.1\n",
      "py-dateutil                2.2\n",
      "python36-sagemaker-pyspark 1.2.6\n",
      "pytz                       2019.3\n",
      "PyYAML                     3.11\n",
      "setuptools                 46.1.3\n",
      "six                        1.13.0\n",
      "soupsieve                  1.9.5\n",
      "wheel                      0.34.2\n",
      "windmill                   1.6"
     ]
    }
   ],
   "source": [
    "sc.list_packages()"
   ]
  },
  {
   "cell_type": "markdown",
   "metadata": {},
   "source": [
    "Installing the necessary libraries to conduct the analysis"
   ]
  },
  {
   "cell_type": "code",
   "execution_count": 2,
   "metadata": {},
   "outputs": [
    {
     "data": {
      "application/vnd.jupyter.widget-view+json": {
       "model_id": "e256f9296f054d5db9dcc6f6ba78c8e6",
       "version_major": 2,
       "version_minor": 0
      },
      "text/plain": [
       "VBox()"
      ]
     },
     "metadata": {},
     "output_type": "display_data"
    },
    {
     "data": {
      "application/vnd.jupyter.widget-view+json": {
       "model_id": "",
       "version_major": 2,
       "version_minor": 0
      },
      "text/plain": [
       "FloatProgress(value=0.0, bar_style='info', description='Progress:', layout=Layout(height='25px', width='50%'),…"
      ]
     },
     "metadata": {},
     "output_type": "display_data"
    },
    {
     "name": "stdout",
     "output_type": "stream",
     "text": [
      "Collecting pandas==1.0.3\n",
      "  Using cached pandas-1.0.3-cp36-cp36m-manylinux1_x86_64.whl (10.0 MB)\n",
      "Collecting python-dateutil>=2.6.1\n",
      "  Using cached python_dateutil-2.8.1-py2.py3-none-any.whl (227 kB)\n",
      "Requirement already satisfied: numpy>=1.13.3 in /usr/local/lib64/python3.6/site-packages (from pandas==1.0.3) (1.14.5)\n",
      "Requirement already satisfied: pytz>=2017.2 in /usr/local/lib/python3.6/site-packages (from pandas==1.0.3) (2019.3)\n",
      "Requirement already satisfied: six>=1.5 in /usr/local/lib/python3.6/site-packages (from python-dateutil>=2.6.1->pandas==1.0.3) (1.13.0)\n",
      "Installing collected packages: python-dateutil, pandas\n",
      "Successfully installed pandas-1.0.3 python-dateutil-2.8.1\n",
      "\n",
      "Collecting matplotlib==3.2.1\n",
      "  Using cached matplotlib-3.2.1-cp36-cp36m-manylinux1_x86_64.whl (12.4 MB)\n",
      "Collecting pyparsing!=2.0.4,!=2.1.2,!=2.1.6,>=2.0.1\n",
      "  Using cached pyparsing-2.4.7-py2.py3-none-any.whl (67 kB)\n",
      "Requirement already satisfied: numpy>=1.11 in /usr/local/lib64/python3.6/site-packages (from matplotlib==3.2.1) (1.14.5)\n",
      "Requirement already satisfied: python-dateutil>=2.1 in /mnt/tmp/1588558408766-0/lib/python3.6/site-packages (from matplotlib==3.2.1) (2.8.1)\n",
      "Collecting kiwisolver>=1.0.1\n",
      "  Using cached kiwisolver-1.2.0-cp36-cp36m-manylinux1_x86_64.whl (88 kB)\n",
      "Collecting cycler>=0.10\n",
      "  Using cached cycler-0.10.0-py2.py3-none-any.whl (6.5 kB)\n",
      "Requirement already satisfied: six>=1.5 in /usr/local/lib/python3.6/site-packages (from python-dateutil>=2.1->matplotlib==3.2.1) (1.13.0)\n",
      "Installing collected packages: pyparsing, kiwisolver, cycler, matplotlib\n",
      "Successfully installed cycler-0.10.0 kiwisolver-1.2.0 matplotlib-3.2.1 pyparsing-2.4.7\n",
      "\n",
      "Collecting seaborn==0.10.1\n",
      "  Using cached seaborn-0.10.1-py3-none-any.whl (215 kB)\n",
      "Collecting scipy>=1.0.1\n",
      "  Using cached scipy-1.4.1-cp36-cp36m-manylinux1_x86_64.whl (26.1 MB)\n",
      "Requirement already satisfied: matplotlib>=2.1.2 in /mnt/tmp/1588558408766-0/lib64/python3.6/site-packages (from seaborn==0.10.1) (3.2.1)\n",
      "Requirement already satisfied: numpy>=1.13.3 in /usr/local/lib64/python3.6/site-packages (from seaborn==0.10.1) (1.14.5)\n",
      "Requirement already satisfied: pandas>=0.22.0 in /mnt/tmp/1588558408766-0/lib64/python3.6/site-packages (from seaborn==0.10.1) (1.0.3)\n",
      "Requirement already satisfied: pyparsing!=2.0.4,!=2.1.2,!=2.1.6,>=2.0.1 in /mnt/tmp/1588558408766-0/lib/python3.6/site-packages (from matplotlib>=2.1.2->seaborn==0.10.1) (2.4.7)\n",
      "Requirement already satisfied: python-dateutil>=2.1 in /mnt/tmp/1588558408766-0/lib/python3.6/site-packages (from matplotlib>=2.1.2->seaborn==0.10.1) (2.8.1)\n",
      "Requirement already satisfied: kiwisolver>=1.0.1 in /mnt/tmp/1588558408766-0/lib64/python3.6/site-packages (from matplotlib>=2.1.2->seaborn==0.10.1) (1.2.0)\n",
      "Requirement already satisfied: cycler>=0.10 in /mnt/tmp/1588558408766-0/lib/python3.6/site-packages (from matplotlib>=2.1.2->seaborn==0.10.1) (0.10.0)\n",
      "Requirement already satisfied: pytz>=2017.2 in /usr/local/lib/python3.6/site-packages (from pandas>=0.22.0->seaborn==0.10.1) (2019.3)\n",
      "Requirement already satisfied: six>=1.5 in /usr/local/lib/python3.6/site-packages (from python-dateutil>=2.1->matplotlib>=2.1.2->seaborn==0.10.1) (1.13.0)\n",
      "Installing collected packages: scipy, seaborn\n",
      "Successfully installed scipy-1.4.1 seaborn-0.10.1"
     ]
    }
   ],
   "source": [
    "sc.install_pypi_package(\"pandas==1.0.3\")\n",
    "sc.install_pypi_package(\"matplotlib==3.2.1\")\n",
    "sc.install_pypi_package(\"seaborn==0.10.1\")"
   ]
  },
  {
   "cell_type": "code",
   "execution_count": 3,
   "metadata": {},
   "outputs": [
    {
     "data": {
      "application/vnd.jupyter.widget-view+json": {
       "model_id": "26680a9041e1410591d3f937d8aad25b",
       "version_major": 2,
       "version_minor": 0
      },
      "text/plain": [
       "VBox()"
      ]
     },
     "metadata": {},
     "output_type": "display_data"
    },
    {
     "data": {
      "application/vnd.jupyter.widget-view+json": {
       "model_id": "",
       "version_major": 2,
       "version_minor": 0
      },
      "text/plain": [
       "FloatProgress(value=0.0, bar_style='info', description='Progress:', layout=Layout(height='25px', width='50%'),…"
      ]
     },
     "metadata": {},
     "output_type": "display_data"
    },
    {
     "name": "stdout",
     "output_type": "stream",
     "text": [
      "Package                    Version\n",
      "-------------------------- -------\n",
      "beautifulsoup4             4.8.1\n",
      "boto                       2.49.0\n",
      "cycler                     0.10.0\n",
      "jmespath                   0.9.4\n",
      "kiwisolver                 1.2.0\n",
      "lxml                       4.4.2\n",
      "matplotlib                 3.2.1\n",
      "mysqlclient                1.4.6\n",
      "nltk                       3.4.5\n",
      "nose                       1.3.4\n",
      "numpy                      1.14.5\n",
      "pandas                     1.0.3\n",
      "pip                        20.1\n",
      "py-dateutil                2.2\n",
      "pyparsing                  2.4.7\n",
      "python-dateutil            2.8.1\n",
      "python36-sagemaker-pyspark 1.2.6\n",
      "pytz                       2019.3\n",
      "PyYAML                     3.11\n",
      "scipy                      1.4.1\n",
      "seaborn                    0.10.1\n",
      "setuptools                 46.1.3\n",
      "six                        1.13.0\n",
      "soupsieve                  1.9.5\n",
      "wheel                      0.34.2\n",
      "windmill                   1.6"
     ]
    }
   ],
   "source": [
    "#Check again to see if the packages are installed\n",
    "sc.list_packages()"
   ]
  },
  {
   "cell_type": "markdown",
   "metadata": {},
   "source": [
    "### Importing"
   ]
  },
  {
   "cell_type": "code",
   "execution_count": 4,
   "metadata": {},
   "outputs": [
    {
     "data": {
      "application/vnd.jupyter.widget-view+json": {
       "model_id": "9856872462e74300bbcfd6d4ac79d98e",
       "version_major": 2,
       "version_minor": 0
      },
      "text/plain": [
       "VBox()"
      ]
     },
     "metadata": {},
     "output_type": "display_data"
    },
    {
     "data": {
      "application/vnd.jupyter.widget-view+json": {
       "model_id": "",
       "version_major": 2,
       "version_minor": 0
      },
      "text/plain": [
       "FloatProgress(value=0.0, bar_style='info', description='Progress:', layout=Layout(height='25px', width='50%'),…"
      ]
     },
     "metadata": {},
     "output_type": "display_data"
    }
   ],
   "source": [
    "import pandas as pd\n",
    "import numpy as np\n",
    "import matplotlib\n",
    "import matplotlib.pyplot as plt\n",
    "import seaborn as sns"
   ]
  },
  {
   "cell_type": "markdown",
   "metadata": {},
   "source": [
    "### Loading Data\n",
    "We are finally ready to load data. Using `spark` load the data from S3 into a `dataframe` object that we can manipulate further down in our analysis."
   ]
  },
  {
   "cell_type": "code",
   "execution_count": 5,
   "metadata": {},
   "outputs": [
    {
     "data": {
      "application/vnd.jupyter.widget-view+json": {
       "model_id": "34b3df79f733461b982c8d4612b965e2",
       "version_major": 2,
       "version_minor": 0
      },
      "text/plain": [
       "VBox()"
      ]
     },
     "metadata": {},
     "output_type": "display_data"
    },
    {
     "data": {
      "application/vnd.jupyter.widget-view+json": {
       "model_id": "",
       "version_major": 2,
       "version_minor": 0
      },
      "text/plain": [
       "FloatProgress(value=0.0, bar_style='info', description='Progress:', layout=Layout(height='25px', width='50%'),…"
      ]
     },
     "metadata": {},
     "output_type": "display_data"
    }
   ],
   "source": [
    "df = spark.read.json('s3://sta9760-yelp-dataset/yelp_academic_dataset_business.json')"
   ]
  },
  {
   "cell_type": "markdown",
   "metadata": {},
   "source": [
    "### Overview of the Data"
   ]
  },
  {
   "cell_type": "code",
   "execution_count": 6,
   "metadata": {},
   "outputs": [
    {
     "data": {
      "application/vnd.jupyter.widget-view+json": {
       "model_id": "de1e071cb0a548c2b510dabdbcc716ce",
       "version_major": 2,
       "version_minor": 0
      },
      "text/plain": [
       "VBox()"
      ]
     },
     "metadata": {},
     "output_type": "display_data"
    },
    {
     "data": {
      "application/vnd.jupyter.widget-view+json": {
       "model_id": "",
       "version_major": 2,
       "version_minor": 0
      },
      "text/plain": [
       "FloatProgress(value=0.0, bar_style='info', description='Progress:', layout=Layout(height='25px', width='50%'),…"
      ]
     },
     "metadata": {},
     "output_type": "display_data"
    },
    {
     "name": "stdout",
     "output_type": "stream",
     "text": [
      "Total Columns: 14\n",
      "Total Rows: 209,393\n",
      "root\n",
      " |-- address: string (nullable = true)\n",
      " |-- attributes: struct (nullable = true)\n",
      " |    |-- AcceptsInsurance: string (nullable = true)\n",
      " |    |-- AgesAllowed: string (nullable = true)\n",
      " |    |-- Alcohol: string (nullable = true)\n",
      " |    |-- Ambience: string (nullable = true)\n",
      " |    |-- BYOB: string (nullable = true)\n",
      " |    |-- BYOBCorkage: string (nullable = true)\n",
      " |    |-- BestNights: string (nullable = true)\n",
      " |    |-- BikeParking: string (nullable = true)\n",
      " |    |-- BusinessAcceptsBitcoin: string (nullable = true)\n",
      " |    |-- BusinessAcceptsCreditCards: string (nullable = true)\n",
      " |    |-- BusinessParking: string (nullable = true)\n",
      " |    |-- ByAppointmentOnly: string (nullable = true)\n",
      " |    |-- Caters: string (nullable = true)\n",
      " |    |-- CoatCheck: string (nullable = true)\n",
      " |    |-- Corkage: string (nullable = true)\n",
      " |    |-- DietaryRestrictions: string (nullable = true)\n",
      " |    |-- DogsAllowed: string (nullable = true)\n",
      " |    |-- DriveThru: string (nullable = true)\n",
      " |    |-- GoodForDancing: string (nullable = true)\n",
      " |    |-- GoodForKids: string (nullable = true)\n",
      " |    |-- GoodForMeal: string (nullable = true)\n",
      " |    |-- HairSpecializesIn: string (nullable = true)\n",
      " |    |-- HappyHour: string (nullable = true)\n",
      " |    |-- HasTV: string (nullable = true)\n",
      " |    |-- Music: string (nullable = true)\n",
      " |    |-- NoiseLevel: string (nullable = true)\n",
      " |    |-- Open24Hours: string (nullable = true)\n",
      " |    |-- OutdoorSeating: string (nullable = true)\n",
      " |    |-- RestaurantsAttire: string (nullable = true)\n",
      " |    |-- RestaurantsCounterService: string (nullable = true)\n",
      " |    |-- RestaurantsDelivery: string (nullable = true)\n",
      " |    |-- RestaurantsGoodForGroups: string (nullable = true)\n",
      " |    |-- RestaurantsPriceRange2: string (nullable = true)\n",
      " |    |-- RestaurantsReservations: string (nullable = true)\n",
      " |    |-- RestaurantsTableService: string (nullable = true)\n",
      " |    |-- RestaurantsTakeOut: string (nullable = true)\n",
      " |    |-- Smoking: string (nullable = true)\n",
      " |    |-- WheelchairAccessible: string (nullable = true)\n",
      " |    |-- WiFi: string (nullable = true)\n",
      " |-- business_id: string (nullable = true)\n",
      " |-- categories: string (nullable = true)\n",
      " |-- city: string (nullable = true)\n",
      " |-- hours: struct (nullable = true)\n",
      " |    |-- Friday: string (nullable = true)\n",
      " |    |-- Monday: string (nullable = true)\n",
      " |    |-- Saturday: string (nullable = true)\n",
      " |    |-- Sunday: string (nullable = true)\n",
      " |    |-- Thursday: string (nullable = true)\n",
      " |    |-- Tuesday: string (nullable = true)\n",
      " |    |-- Wednesday: string (nullable = true)\n",
      " |-- is_open: long (nullable = true)\n",
      " |-- latitude: double (nullable = true)\n",
      " |-- longitude: double (nullable = true)\n",
      " |-- name: string (nullable = true)\n",
      " |-- postal_code: string (nullable = true)\n",
      " |-- review_count: long (nullable = true)\n",
      " |-- stars: double (nullable = true)\n",
      " |-- state: string (nullable = true)"
     ]
    }
   ],
   "source": [
    "#Display Total Columns, Total Rows and dataframe schema below\n",
    "print(f'Total Columns: {len(df.dtypes)}')\n",
    "print(f'Total Rows: {df.count():,}')\n",
    "df.printSchema()"
   ]
  },
  {
   "cell_type": "code",
   "execution_count": 7,
   "metadata": {},
   "outputs": [
    {
     "data": {
      "application/vnd.jupyter.widget-view+json": {
       "model_id": "c54186af5cbf4320aa0b3a1532affc9d",
       "version_major": 2,
       "version_minor": 0
      },
      "text/plain": [
       "VBox()"
      ]
     },
     "metadata": {},
     "output_type": "display_data"
    },
    {
     "data": {
      "application/vnd.jupyter.widget-view+json": {
       "model_id": "",
       "version_major": 2,
       "version_minor": 0
      },
      "text/plain": [
       "FloatProgress(value=0.0, bar_style='info', description='Progress:', layout=Layout(height='25px', width='50%'),…"
      ]
     },
     "metadata": {},
     "output_type": "display_data"
    },
    {
     "name": "stdout",
     "output_type": "stream",
     "text": [
      "+--------------------+--------------------+---------------+-----+--------------------+\n",
      "|         business_id|                name|           city|state|          categories|\n",
      "+--------------------+--------------------+---------------+-----+--------------------+\n",
      "|f9NumwFMBDn751xgF...|The Range At Lake...|      Cornelius|   NC|Active Life, Gun/...|\n",
      "|Yzvjg0SayhoZgCljU...|   Carlos Santo, NMD|     Scottsdale|   AZ|Health & Medical,...|\n",
      "|XNoUzKckATkOD1hP6...|             Felinus|       Montreal|   QC|Pets, Pet Service...|\n",
      "|6OAZjbxqM5ol29BuH...|Nevada House of Hose|North Las Vegas|   NV|Hardware Stores, ...|\n",
      "|51M2Kk903DFYI6gnB...|USE MY GUY SERVIC...|           Mesa|   AZ|Home Services, Pl...|\n",
      "+--------------------+--------------------+---------------+-----+--------------------+\n",
      "only showing top 5 rows"
     ]
    }
   ],
   "source": [
    "bd = df.select('business_id', 'name', 'city', 'state', 'categories')\n",
    "bd.show(5)"
   ]
  },
  {
   "cell_type": "markdown",
   "metadata": {},
   "source": [
    "# II. Analyzing Categories\n",
    "\n",
    "In this part, I'm trying to answer two questions:\n",
    "\n",
    "**1. How many unique categories are represented in this dataset?**\n",
    "\n",
    "**2. What are the top 20 most popular categories available?**\n",
    "\n",
    "Essentially, we have the categories per business as a list - this is useful to quickly see what each business might be represented as but it is difficult to easily answer questions like above.\n",
    "\n",
    "We need to \"break out\" these categories from the business ids. One common approach to take is to build an association table mapping a single business id multiple times to each distinct category.\n",
    "\n",
    "For instance, given the following:\n",
    "\n",
    "\n",
    "| business_id | categories |\n",
    "|-------------|------------|\n",
    "| abcd123     | a,b,c      |\n",
    "\n",
    "We would like to derive something like:\n",
    "\n",
    "| business_id | category |\n",
    "|-------------|------------|\n",
    "| abcd123     | a          |\n",
    "| abcd123     | b          |\n",
    "| abcd123     | c          |\n",
    "\n",
    "\n",
    "What this does is allow us to then perform a myriad of rollups and other analysis on this association table which can aid us in answering the questions asked above.\n"
   ]
  },
  {
   "cell_type": "code",
   "execution_count": 8,
   "metadata": {},
   "outputs": [
    {
     "data": {
      "application/vnd.jupyter.widget-view+json": {
       "model_id": "d0566d7f9e2946febecdd39f0fe21eba",
       "version_major": 2,
       "version_minor": 0
      },
      "text/plain": [
       "VBox()"
      ]
     },
     "metadata": {},
     "output_type": "display_data"
    },
    {
     "data": {
      "application/vnd.jupyter.widget-view+json": {
       "model_id": "",
       "version_major": 2,
       "version_minor": 0
      },
      "text/plain": [
       "FloatProgress(value=0.0, bar_style='info', description='Progress:', layout=Layout(height='25px', width='50%'),…"
      ]
     },
     "metadata": {},
     "output_type": "display_data"
    },
    {
     "name": "stdout",
     "output_type": "stream",
     "text": [
      "+--------------------+----------------+\n",
      "|         business_id|        category|\n",
      "+--------------------+----------------+\n",
      "|f9NumwFMBDn751xgF...|     Active Life|\n",
      "|f9NumwFMBDn751xgF...|Gun/Rifle Ranges|\n",
      "|f9NumwFMBDn751xgF...|     Guns & Ammo|\n",
      "|f9NumwFMBDn751xgF...|        Shopping|\n",
      "|Yzvjg0SayhoZgCljU...|Health & Medical|\n",
      "+--------------------+----------------+\n",
      "only showing top 5 rows"
     ]
    }
   ],
   "source": [
    "from pyspark.sql.functions import split, explode, desc\n",
    "categories = bd.select(bd.business_id, \n",
    "                             explode(split(bd.categories, ', ')).alias('category'))\n",
    "categories.show(5)"
   ]
  },
  {
   "cell_type": "markdown",
   "metadata": {},
   "source": [
    "## Total Unique Categories\n",
    "\n",
    "Finally, we are ready to answer the question: **What is the total number of unique categories available?**"
   ]
  },
  {
   "cell_type": "code",
   "execution_count": 9,
   "metadata": {},
   "outputs": [
    {
     "data": {
      "application/vnd.jupyter.widget-view+json": {
       "model_id": "eed14a61072a4c0290f1e0e7746f3b89",
       "version_major": 2,
       "version_minor": 0
      },
      "text/plain": [
       "VBox()"
      ]
     },
     "metadata": {},
     "output_type": "display_data"
    },
    {
     "data": {
      "application/vnd.jupyter.widget-view+json": {
       "model_id": "",
       "version_major": 2,
       "version_minor": 0
      },
      "text/plain": [
       "FloatProgress(value=0.0, bar_style='info', description='Progress:', layout=Layout(height='25px', width='50%'),…"
      ]
     },
     "metadata": {},
     "output_type": "display_data"
    },
    {
     "name": "stdout",
     "output_type": "stream",
     "text": [
      "There are total 1336 unique categories available in this dataset"
     ]
    }
   ],
   "source": [
    "total = categories.select('category').distinct().count()\n",
    "print('There are total ' + str(total) + ' unique categories available in this dataset')"
   ]
  },
  {
   "cell_type": "markdown",
   "metadata": {},
   "source": [
    "## Top Categories By Business\n",
    "\n",
    "Now let's find the top categories in this dataset by rolling up categories."
   ]
  },
  {
   "cell_type": "code",
   "execution_count": 10,
   "metadata": {},
   "outputs": [
    {
     "data": {
      "application/vnd.jupyter.widget-view+json": {
       "model_id": "cdd00819c99c4b05aad74d5d27d7000e",
       "version_major": 2,
       "version_minor": 0
      },
      "text/plain": [
       "VBox()"
      ]
     },
     "metadata": {},
     "output_type": "display_data"
    },
    {
     "data": {
      "application/vnd.jupyter.widget-view+json": {
       "model_id": "",
       "version_major": 2,
       "version_minor": 0
      },
      "text/plain": [
       "FloatProgress(value=0.0, bar_style='info', description='Progress:', layout=Layout(height='25px', width='50%'),…"
      ]
     },
     "metadata": {},
     "output_type": "display_data"
    }
   ],
   "source": [
    "num_category = categories.groupBy('category').count()"
   ]
  },
  {
   "cell_type": "code",
   "execution_count": 11,
   "metadata": {},
   "outputs": [
    {
     "data": {
      "application/vnd.jupyter.widget-view+json": {
       "model_id": "dc5f8090145f4b2b82e3f1ee9cb4e985",
       "version_major": 2,
       "version_minor": 0
      },
      "text/plain": [
       "VBox()"
      ]
     },
     "metadata": {},
     "output_type": "display_data"
    },
    {
     "data": {
      "application/vnd.jupyter.widget-view+json": {
       "model_id": "",
       "version_major": 2,
       "version_minor": 0
      },
      "text/plain": [
       "FloatProgress(value=0.0, bar_style='info', description='Progress:', layout=Layout(height='25px', width='50%'),…"
      ]
     },
     "metadata": {},
     "output_type": "display_data"
    },
    {
     "name": "stdout",
     "output_type": "stream",
     "text": [
      "+--------------------+-----+\n",
      "|            category|count|\n",
      "+--------------------+-----+\n",
      "|         Restaurants|63944|\n",
      "|            Shopping|34644|\n",
      "|                Food|32991|\n",
      "|       Home Services|22487|\n",
      "|       Beauty & Spas|20520|\n",
      "|    Health & Medical|19227|\n",
      "|      Local Services|15783|\n",
      "|          Automotive|14720|\n",
      "|           Nightlife|14211|\n",
      "|                Bars|12400|\n",
      "|Event Planning & ...|11263|\n",
      "|         Active Life|10225|\n",
      "|        Coffee & Tea| 8415|\n",
      "|             Fashion| 8374|\n",
      "|           Fast Food| 8106|\n",
      "|          Sandwiches| 8064|\n",
      "|American (Traditi...| 7596|\n",
      "|       Home & Garden| 7331|\n",
      "|         Hair Salons| 7303|\n",
      "|               Pizza| 7302|\n",
      "+--------------------+-----+"
     ]
    }
   ],
   "source": [
    "#Find top 20 categories by number of business\n",
    "top_category = num_category.orderBy(desc('count')).limit(20)\n",
    "top_category.show()"
   ]
  },
  {
   "cell_type": "markdown",
   "metadata": {},
   "source": [
    "### Bar Chart of Top Categories"
   ]
  },
  {
   "cell_type": "code",
   "execution_count": 45,
   "metadata": {},
   "outputs": [
    {
     "data": {
      "application/vnd.jupyter.widget-view+json": {
       "model_id": "f0338a98b2ee40aab4a6991ce739bfa1",
       "version_major": 2,
       "version_minor": 0
      },
      "text/plain": [
       "VBox()"
      ]
     },
     "metadata": {},
     "output_type": "display_data"
    },
    {
     "data": {
      "application/vnd.jupyter.widget-view+json": {
       "model_id": "",
       "version_major": 2,
       "version_minor": 0
      },
      "text/plain": [
       "FloatProgress(value=0.0, bar_style='info', description='Progress:', layout=Layout(height='25px', width='50%'),…"
      ]
     },
     "metadata": {},
     "output_type": "display_data"
    },
    {
     "data": {
      "image/png": "[encoded data removed]",
      "text/plain": [
       "<IPython.core.display.Image object>"
      ]
     },
     "metadata": {},
     "output_type": "display_data"
    }
   ],
   "source": [
    "#Change SparkDF to Pandas in order to plot the data\n",
    "tc = top_category.toPandas()\n",
    "\n",
    "#Plot top 20 Categories\n",
    "sns.set()\n",
    "plt.figure(figsize = (7,7))\n",
    "\n",
    "ax = sns.barplot(x = 'count', y = 'category', data = tc, palette=\"Blues_d\")\n",
    "\n",
    "plt.title('Top Categories by Business', fontsize = 12)\n",
    "\n",
    "plt.xlabel('Count', fontsize = 10)\n",
    "plt.ylabel('Category', fontsize = 10)\n",
    "\n",
    "plt.xticks(fontsize = 8)\n",
    "plt.yticks(fontsize = 8)\n",
    "\n",
    "ax.grid(False)\n",
    "\n",
    "plt.tight_layout()\n",
    "%matplot plt"
   ]
  },
  {
   "cell_type": "markdown",
   "metadata": {},
   "source": [
    "# III. Do Yelp Reviews Skew Negative?\n",
    "\n",
    "Oftentimes, it is said that the only people who write a written review are those who are extremely _dissatisfied_ or extremely _satisfied_ with the service received. \n",
    "\n",
    "How true is this really? Let's try and answer this question."
   ]
  },
  {
   "cell_type": "markdown",
   "metadata": {},
   "source": [
    "## Loading Review Data\n",
    "\n",
    "Begin by loading the review data set from S3 and printing schema to determine what data is available."
   ]
  },
  {
   "cell_type": "code",
   "execution_count": 13,
   "metadata": {},
   "outputs": [
    {
     "data": {
      "application/vnd.jupyter.widget-view+json": {
       "model_id": "cdd709776c7a4a7fa34d2d48a7135696",
       "version_major": 2,
       "version_minor": 0
      },
      "text/plain": [
       "VBox()"
      ]
     },
     "metadata": {},
     "output_type": "display_data"
    },
    {
     "data": {
      "application/vnd.jupyter.widget-view+json": {
       "model_id": "",
       "version_major": 2,
       "version_minor": 0
      },
      "text/plain": [
       "FloatProgress(value=0.0, bar_style='info', description='Progress:', layout=Layout(height='25px', width='50%'),…"
      ]
     },
     "metadata": {},
     "output_type": "display_data"
    },
    {
     "name": "stdout",
     "output_type": "stream",
     "text": [
      "root\n",
      " |-- business_id: string (nullable = true)\n",
      " |-- cool: long (nullable = true)\n",
      " |-- date: string (nullable = true)\n",
      " |-- funny: long (nullable = true)\n",
      " |-- review_id: string (nullable = true)\n",
      " |-- stars: double (nullable = true)\n",
      " |-- text: string (nullable = true)\n",
      " |-- useful: long (nullable = true)\n",
      " |-- user_id: string (nullable = true)"
     ]
    }
   ],
   "source": [
    "review = spark.read.json('s3://sta9760-yelp-dataset/yelp_academic_dataset_review.json')\n",
    "review.printSchema()"
   ]
  },
  {
   "cell_type": "markdown",
   "metadata": {},
   "source": [
    "Let's begin by listing the `business_id` and `stars` columns together for the user reviews data."
   ]
  },
  {
   "cell_type": "code",
   "execution_count": 14,
   "metadata": {},
   "outputs": [
    {
     "data": {
      "application/vnd.jupyter.widget-view+json": {
       "model_id": "381a1296e7814f498d5e59f74d2cb4f8",
       "version_major": 2,
       "version_minor": 0
      },
      "text/plain": [
       "VBox()"
      ]
     },
     "metadata": {},
     "output_type": "display_data"
    },
    {
     "data": {
      "application/vnd.jupyter.widget-view+json": {
       "model_id": "",
       "version_major": 2,
       "version_minor": 0
      },
      "text/plain": [
       "FloatProgress(value=0.0, bar_style='info', description='Progress:', layout=Layout(height='25px', width='50%'),…"
      ]
     },
     "metadata": {},
     "output_type": "display_data"
    },
    {
     "name": "stdout",
     "output_type": "stream",
     "text": [
      "+--------------------+-----+\n",
      "|         business_id|stars|\n",
      "+--------------------+-----+\n",
      "|-MhfebM0QIsKt87iD...|  2.0|\n",
      "|lbrU8StCq3yDfr-QM...|  1.0|\n",
      "|HQl28KMwrEKHqhFrr...|  5.0|\n",
      "|5JxlZaqCnk1MnbgRi...|  1.0|\n",
      "|IS4cv902ykd8wj1TR...|  4.0|\n",
      "+--------------------+-----+\n",
      "only showing top 5 rows"
     ]
    }
   ],
   "source": [
    "all_star = review.select('business_id', 'stars')\n",
    "all_star.show(5)"
   ]
  },
  {
   "cell_type": "markdown",
   "metadata": {},
   "source": [
    "Now, let's aggregate along the `stars` column to get a resultant dataframe that displays _average stars_ per business as accumulated by users who **took the time to submit a written review**."
   ]
  },
  {
   "cell_type": "code",
   "execution_count": 15,
   "metadata": {},
   "outputs": [
    {
     "data": {
      "application/vnd.jupyter.widget-view+json": {
       "model_id": "52da8316c3ae4790bf1bb036345bbeb6",
       "version_major": 2,
       "version_minor": 0
      },
      "text/plain": [
       "VBox()"
      ]
     },
     "metadata": {},
     "output_type": "display_data"
    },
    {
     "data": {
      "application/vnd.jupyter.widget-view+json": {
       "model_id": "",
       "version_major": 2,
       "version_minor": 0
      },
      "text/plain": [
       "FloatProgress(value=0.0, bar_style='info', description='Progress:', layout=Layout(height='25px', width='50%'),…"
      ]
     },
     "metadata": {},
     "output_type": "display_data"
    },
    {
     "name": "stdout",
     "output_type": "stream",
     "text": [
      "+--------------------+------------------+\n",
      "|         business_id|     average_stars|\n",
      "+--------------------+------------------+\n",
      "|ATeOjZzE3VOI-RW7F...| 3.433734939759036|\n",
      "|RMjCnixEY5i12Ciqn...|3.5316455696202533|\n",
      "|vbUABNAQI2iwN7v0x...|2.4545454545454546|\n",
      "|VHsNB3pdGVcRgs6C3...| 3.411764705882353|\n",
      "|r-W1HPIZ3V6S2DaXh...| 4.852459016393443|\n",
      "+--------------------+------------------+\n",
      "only showing top 5 rows"
     ]
    }
   ],
   "source": [
    "review.createOrReplaceTempView('Review1')\n",
    "star_review = spark.sql(\n",
    "'''\n",
    "SELECT `business_id`, AVG (`stars`) AS average_stars FROM Review1\n",
    "WHERE text IS NOT NULL\n",
    "GROUP BY `business_id`\n",
    "'''\n",
    ")\n",
    "star_review.show(5)"
   ]
  },
  {
   "cell_type": "markdown",
   "metadata": {},
   "source": [
    "Now the fun part - let's join our two dataframes (reviews and business data) by `business_id`. "
   ]
  },
  {
   "cell_type": "code",
   "execution_count": 16,
   "metadata": {},
   "outputs": [
    {
     "data": {
      "application/vnd.jupyter.widget-view+json": {
       "model_id": "b2e523f85f7347688407c4bc71dd11ed",
       "version_major": 2,
       "version_minor": 0
      },
      "text/plain": [
       "VBox()"
      ]
     },
     "metadata": {},
     "output_type": "display_data"
    },
    {
     "data": {
      "application/vnd.jupyter.widget-view+json": {
       "model_id": "",
       "version_major": 2,
       "version_minor": 0
      },
      "text/plain": [
       "FloatProgress(value=0.0, bar_style='info', description='Progress:', layout=Layout(height='25px', width='50%'),…"
      ]
     },
     "metadata": {},
     "output_type": "display_data"
    },
    {
     "name": "stdout",
     "output_type": "stream",
     "text": [
      "+--------------------+-----------+-----+-----+------------------+\n",
      "|                name|       city|state|stars|     average_stars|\n",
      "+--------------------+-----------+-----+-----+------------------+\n",
      "|Delmonico Steakhouse|  Las Vegas|   NV|  4.0|  4.11784140969163|\n",
      "|Neo-Paws Internat...|    Toronto|   ON|  2.5|2.3333333333333335|\n",
      "| McFarling Law Group|  Las Vegas|   NV|  4.5|             4.375|\n",
      "|Volvo of Mississauga|Mississauga|   ON|  3.5|3.3333333333333335|\n",
      "|Andre Agassi Coll...|  Las Vegas|   NV|  5.0|               5.0|\n",
      "+--------------------+-----------+-----+-----+------------------+\n",
      "only showing top 5 rows"
     ]
    }
   ],
   "source": [
    "business = df.select('business_id', 'name', 'city', 'state', 'stars')\n",
    "bs = business.join(star_review, on=['business_id'], how='inner').drop('business_id')\n",
    "bs.show(5)"
   ]
  },
  {
   "cell_type": "markdown",
   "metadata": {},
   "source": [
    "Compute a new dataframe that calculates what we will call the _skew_ (for lack of a better word) between the avg stars accumulated from written reviews and the _actual_ star rating of a business (ie: the average of stars given by reviewers who wrote an actual review **and** reviewers who just provided a star rating).\n",
    "\n",
    "The formula you can use is something like:\n",
    "\n",
    "```\n",
    "(row['avg(stars)'] - row['stars']) / row['stars']\n",
    "```\n",
    "\n",
    "If the **skew** is negative, we can interpret that to be: reviewers who left a written response were more dissatisfied than normal. If **skew** is positive, we can interpret that to be: reviewers who left a written response were more satisfied than normal."
   ]
  },
  {
   "cell_type": "code",
   "execution_count": 17,
   "metadata": {},
   "outputs": [
    {
     "data": {
      "application/vnd.jupyter.widget-view+json": {
       "model_id": "7210defd31bf474992a929b86fa56529",
       "version_major": 2,
       "version_minor": 0
      },
      "text/plain": [
       "VBox()"
      ]
     },
     "metadata": {},
     "output_type": "display_data"
    },
    {
     "data": {
      "application/vnd.jupyter.widget-view+json": {
       "model_id": "",
       "version_major": 2,
       "version_minor": 0
      },
      "text/plain": [
       "FloatProgress(value=0.0, bar_style='info', description='Progress:', layout=Layout(height='25px', width='50%'),…"
      ]
     },
     "metadata": {},
     "output_type": "display_data"
    },
    {
     "name": "stdout",
     "output_type": "stream",
     "text": [
      "+--------------------+-----------+-----+-----+------------------+--------------------+\n",
      "|                name|       city|state|stars|     average_stars|                skew|\n",
      "+--------------------+-----------+-----+-----+------------------+--------------------+\n",
      "|Delmonico Steakhouse|  Las Vegas|   NV|  4.0|  4.11784140969163|0.029460352422907565|\n",
      "|Neo-Paws Internat...|    Toronto|   ON|  2.5|2.3333333333333335|-0.06666666666666661|\n",
      "| McFarling Law Group|  Las Vegas|   NV|  4.5|             4.375|-0.02777777777777...|\n",
      "|Volvo of Mississauga|Mississauga|   ON|  3.5|3.3333333333333335|-0.04761904761904...|\n",
      "|Andre Agassi Coll...|  Las Vegas|   NV|  5.0|               5.0|                 0.0|\n",
      "+--------------------+-----------+-----+-----+------------------+--------------------+\n",
      "only showing top 5 rows"
     ]
    }
   ],
   "source": [
    "bs = bs.withColumn('skew', (bs.average_stars - bs.stars)/bs.stars)\n",
    "bs.show(5)"
   ]
  },
  {
   "cell_type": "markdown",
   "metadata": {},
   "source": [
    "Now, let's graph the data!"
   ]
  },
  {
   "cell_type": "code",
   "execution_count": 18,
   "metadata": {},
   "outputs": [
    {
     "data": {
      "application/vnd.jupyter.widget-view+json": {
       "model_id": "028d883cdd2f40198af96182f05ca6ce",
       "version_major": 2,
       "version_minor": 0
      },
      "text/plain": [
       "VBox()"
      ]
     },
     "metadata": {},
     "output_type": "display_data"
    },
    {
     "data": {
      "application/vnd.jupyter.widget-view+json": {
       "model_id": "",
       "version_major": 2,
       "version_minor": 0
      },
      "text/plain": [
       "FloatProgress(value=0.0, bar_style='info', description='Progress:', layout=Layout(height='25px', width='50%'),…"
      ]
     },
     "metadata": {},
     "output_type": "display_data"
    }
   ],
   "source": [
    "#Change dataframe to Pandas in order to plot the data\n",
    "skew = bs.select('skew').toPandas()"
   ]
  },
  {
   "cell_type": "code",
   "execution_count": 19,
   "metadata": {},
   "outputs": [
    {
     "data": {
      "application/vnd.jupyter.widget-view+json": {
       "model_id": "b3370afa7c9c4f9ca16c8868b7b17dad",
       "version_major": 2,
       "version_minor": 0
      },
      "text/plain": [
       "VBox()"
      ]
     },
     "metadata": {},
     "output_type": "display_data"
    },
    {
     "data": {
      "application/vnd.jupyter.widget-view+json": {
       "model_id": "",
       "version_major": 2,
       "version_minor": 0
      },
      "text/plain": [
       "FloatProgress(value=0.0, bar_style='info', description='Progress:', layout=Layout(height='25px', width='50%'),…"
      ]
     },
     "metadata": {},
     "output_type": "display_data"
    },
    {
     "data": {
      "image/png": "[encoded data removed]",
      "text/plain": [
       "<IPython.core.display.Image object>"
      ]
     },
     "metadata": {},
     "output_type": "display_data"
    }
   ],
   "source": [
    "#Plotting data\n",
    "sns.set()\n",
    "plt.figure(figsize=(15,6))\n",
    "ax = sns.distplot(skew)\n",
    "\n",
    "ax.set_xlabel('Skew', size=14)\n",
    "\n",
    "plt.title(\"Yelp Review Skew\", size=18)\n",
    "\n",
    "plt.tight_layout()\n",
    "\n",
    "%matplot plt"
   ]
  },
  {
   "cell_type": "markdown",
   "metadata": {},
   "source": [
    "Although the skew's distribution seems to be normal, it skews to the right. Based on the graph, the *satisfaction* level of reviewers who left positively skewed reviews is greater than the *dissatisfaction* level of reviewers who left negatively skewed reviews."
   ]
  },
  {
   "cell_type": "code",
   "execution_count": 20,
   "metadata": {},
   "outputs": [
    {
     "data": {
      "application/vnd.jupyter.widget-view+json": {
       "model_id": "19e169fdfdb947958e93cc0cd5a1c49b",
       "version_major": 2,
       "version_minor": 0
      },
      "text/plain": [
       "VBox()"
      ]
     },
     "metadata": {},
     "output_type": "display_data"
    },
    {
     "data": {
      "application/vnd.jupyter.widget-view+json": {
       "model_id": "",
       "version_major": 2,
       "version_minor": 0
      },
      "text/plain": [
       "FloatProgress(value=0.0, bar_style='info', description='Progress:', layout=Layout(height='25px', width='50%'),…"
      ]
     },
     "metadata": {},
     "output_type": "display_data"
    },
    {
     "name": "stdout",
     "output_type": "stream",
     "text": [
      "                skew\n",
      "count  209393.000000\n",
      "mean        0.001235\n",
      "std         0.055235\n",
      "min        -0.454545\n",
      "25%        -0.033898\n",
      "50%         0.000000\n",
      "75%         0.035714\n",
      "max         1.333333"
     ]
    }
   ],
   "source": [
    "skew.describe()"
   ]
  },
  {
   "cell_type": "markdown",
   "metadata": {},
   "source": [
    "Looking at the graph, it appears that the average skew is negative. However, based on the cell above, the average skew is actually slightly positive, and the median skew is 0."
   ]
  },
  {
   "cell_type": "markdown",
   "metadata": {},
   "source": [
    "To answer the question if Yelp reviews skew negative, we can formulate a hypothesis test the population mean skew.\n",
    "\n",
    "### One-Tailed Single Sample t-test"
   ]
  },
  {
   "cell_type": "markdown",
   "metadata": {},
   "source": [
    "$$\n",
    "H_o: \\mu_{skew} \\geq 0 \\\\ \\\\\n",
    "H_a: \\mu_{skew} < 0 \n",
    "$$"
   ]
  },
  {
   "cell_type": "markdown",
   "metadata": {},
   "source": [
    "- Test Statistic:\n",
    "\n",
    "$$\n",
    "t = \\frac{\\bar x - \\mu_{skew}}{\\frac{s}{\\sqrt n}} = \\frac{0.001235 - 0}{\\frac{0.055235}{\\sqrt{209393}}} = 10.234\n",
    "$$"
   ]
  },
  {
   "cell_type": "code",
   "execution_count": 21,
   "metadata": {},
   "outputs": [
    {
     "data": {
      "application/vnd.jupyter.widget-view+json": {
       "model_id": "bb71ea511b7a433e94c120299f221de1",
       "version_major": 2,
       "version_minor": 0
      },
      "text/plain": [
       "VBox()"
      ]
     },
     "metadata": {},
     "output_type": "display_data"
    },
    {
     "data": {
      "application/vnd.jupyter.widget-view+json": {
       "model_id": "",
       "version_major": 2,
       "version_minor": 0
      },
      "text/plain": [
       "FloatProgress(value=0.0, bar_style='info', description='Progress:', layout=Layout(height='25px', width='50%'),…"
      ]
     },
     "metadata": {},
     "output_type": "display_data"
    },
    {
     "name": "stdout",
     "output_type": "stream",
     "text": [
      "Test Statistic: 10.234180992254487\n",
      "p-value: 7.062066589952781e-25"
     ]
    }
   ],
   "source": [
    "#t-test using stats.ttest_1samp\n",
    "from scipy import stats\n",
    "\n",
    "t, p = stats.ttest_1samp(skew, 0)\n",
    "\n",
    "p /= 2\n",
    "\n",
    "print('Test Statistic: {}\\np-value: {}'.format(*t, *p))"
   ]
  },
  {
   "cell_type": "markdown",
   "metadata": {},
   "source": [
    "### Conclusion\n",
    "We cannot reject the null hypothesis $H_o: \\mu_{skew} \\geq 0$. Although the `p-value` is less than 0.05, the `test statistic` is positive. Therefore, our analysis cannot prove whether skew review is negative or positive."
   ]
  },
  {
   "cell_type": "markdown",
   "metadata": {},
   "source": [
    "# IV. Should the Elite be Trusted? "
   ]
  },
  {
   "cell_type": "markdown",
   "metadata": {},
   "source": [
    "In this final section, the question of **\"Should the Elite be Trusted?\"** will be explored. The goal is to analyze and visualize the accuracy of star ratings for both elite and non-elite users and see how they change over time.\n",
    "\n",
    "First, we will need to join 3 dataframes: User, Review, and Business.\n",
    "\n",
    "### Loading User Data"
   ]
  },
  {
   "cell_type": "code",
   "execution_count": 22,
   "metadata": {},
   "outputs": [
    {
     "data": {
      "application/vnd.jupyter.widget-view+json": {
       "model_id": "dc11f97c718045b28cf25a2f629f875e",
       "version_major": 2,
       "version_minor": 0
      },
      "text/plain": [
       "VBox()"
      ]
     },
     "metadata": {},
     "output_type": "display_data"
    },
    {
     "data": {
      "application/vnd.jupyter.widget-view+json": {
       "model_id": "",
       "version_major": 2,
       "version_minor": 0
      },
      "text/plain": [
       "FloatProgress(value=0.0, bar_style='info', description='Progress:', layout=Layout(height='25px', width='50%'),…"
      ]
     },
     "metadata": {},
     "output_type": "display_data"
    },
    {
     "name": "stdout",
     "output_type": "stream",
     "text": [
      "root\n",
      " |-- average_stars: double (nullable = true)\n",
      " |-- compliment_cool: long (nullable = true)\n",
      " |-- compliment_cute: long (nullable = true)\n",
      " |-- compliment_funny: long (nullable = true)\n",
      " |-- compliment_hot: long (nullable = true)\n",
      " |-- compliment_list: long (nullable = true)\n",
      " |-- compliment_more: long (nullable = true)\n",
      " |-- compliment_note: long (nullable = true)\n",
      " |-- compliment_photos: long (nullable = true)\n",
      " |-- compliment_plain: long (nullable = true)\n",
      " |-- compliment_profile: long (nullable = true)\n",
      " |-- compliment_writer: long (nullable = true)\n",
      " |-- cool: long (nullable = true)\n",
      " |-- elite: string (nullable = true)\n",
      " |-- fans: long (nullable = true)\n",
      " |-- friends: string (nullable = true)\n",
      " |-- funny: long (nullable = true)\n",
      " |-- name: string (nullable = true)\n",
      " |-- review_count: long (nullable = true)\n",
      " |-- useful: long (nullable = true)\n",
      " |-- user_id: string (nullable = true)\n",
      " |-- yelping_since: string (nullable = true)"
     ]
    }
   ],
   "source": [
    "user = spark.read.json('s3://sta9760-yelp-dataset/yelp_academic_dataset_user.json')\n",
    "user.printSchema()"
   ]
  },
  {
   "cell_type": "markdown",
   "metadata": {},
   "source": [
    "We have the data of each `user_id` with list of the year they're elite user"
   ]
  },
  {
   "cell_type": "code",
   "execution_count": 23,
   "metadata": {},
   "outputs": [
    {
     "data": {
      "application/vnd.jupyter.widget-view+json": {
       "model_id": "c45e16a0f0d545d0b95c6313c98f4402",
       "version_major": 2,
       "version_minor": 0
      },
      "text/plain": [
       "VBox()"
      ]
     },
     "metadata": {},
     "output_type": "display_data"
    },
    {
     "data": {
      "application/vnd.jupyter.widget-view+json": {
       "model_id": "",
       "version_major": 2,
       "version_minor": 0
      },
      "text/plain": [
       "FloatProgress(value=0.0, bar_style='info', description='Progress:', layout=Layout(height='25px', width='50%'),…"
      ]
     },
     "metadata": {},
     "output_type": "display_data"
    },
    {
     "name": "stdout",
     "output_type": "stream",
     "text": [
      "+--------------------+--------------------+\n",
      "|             user_id|               elite|\n",
      "+--------------------+--------------------+\n",
      "|ntlvfPzc8eglqvk92...|                    |\n",
      "|FOBRPlBHa3WPHFB5q...|2008,2009,2010,20...|\n",
      "|zZUnPeh2hEp0WydbA...|                2010|\n",
      "|QaELAmRcDc5TfJEyl...|                2009|\n",
      "|xvu8G900tezTzbbfq...|2009,2010,2011,20...|\n",
      "+--------------------+--------------------+\n",
      "only showing top 5 rows"
     ]
    }
   ],
   "source": [
    "user.select('user_id', 'elite').show(5)"
   ]
  },
  {
   "cell_type": "markdown",
   "metadata": {},
   "source": [
    "### Break out the Elite Columns\n",
    "\n",
    "To make it easier for our analysis, we need to \"break out\" the `elite` column"
   ]
  },
  {
   "cell_type": "code",
   "execution_count": 24,
   "metadata": {},
   "outputs": [
    {
     "data": {
      "application/vnd.jupyter.widget-view+json": {
       "model_id": "a3bd18d26c3f41dfbeb4e870ea5170eb",
       "version_major": 2,
       "version_minor": 0
      },
      "text/plain": [
       "VBox()"
      ]
     },
     "metadata": {},
     "output_type": "display_data"
    },
    {
     "data": {
      "application/vnd.jupyter.widget-view+json": {
       "model_id": "",
       "version_major": 2,
       "version_minor": 0
      },
      "text/plain": [
       "FloatProgress(value=0.0, bar_style='info', description='Progress:', layout=Layout(height='25px', width='50%'),…"
      ]
     },
     "metadata": {},
     "output_type": "display_data"
    },
    {
     "name": "stdout",
     "output_type": "stream",
     "text": [
      "+--------------------+-----+\n",
      "|             user_id|elite|\n",
      "+--------------------+-----+\n",
      "|ntlvfPzc8eglqvk92...| null|\n",
      "|FOBRPlBHa3WPHFB5q...| 2008|\n",
      "|FOBRPlBHa3WPHFB5q...| 2009|\n",
      "|FOBRPlBHa3WPHFB5q...| 2010|\n",
      "|FOBRPlBHa3WPHFB5q...| 2011|\n",
      "+--------------------+-----+\n",
      "only showing top 5 rows"
     ]
    }
   ],
   "source": [
    "temp_user = user.select('user_id', explode(split(user.elite, ',')).alias('elite'))\n",
    "\n",
    "from pyspark.sql.types import IntegerType\n",
    "temp_user = temp_user.withColumn('elite', temp_user.elite.cast(IntegerType()))\n",
    "temp_user.show(5)"
   ]
  },
  {
   "cell_type": "markdown",
   "metadata": {},
   "source": [
    "Over the years, the `elite` status of users might have changed. For this analysis, we define that an elite review is an review from a user that have the elite status in the same year. \n",
    "\n",
    "For example, I started using Yelp in 2009 and became elite in 2011.\n",
    "\n",
    "- All reviews I made in 2009 to 2010 would be counted as non-elite reviews\n",
    "\n",
    "- All reviews I made in 2011 would be counted as elite reviews"
   ]
  },
  {
   "cell_type": "markdown",
   "metadata": {},
   "source": [
    "### Join Review and Business Data"
   ]
  },
  {
   "cell_type": "code",
   "execution_count": 25,
   "metadata": {},
   "outputs": [
    {
     "data": {
      "application/vnd.jupyter.widget-view+json": {
       "model_id": "416c8dd647a2416f9826c178cb05fa37",
       "version_major": 2,
       "version_minor": 0
      },
      "text/plain": [
       "VBox()"
      ]
     },
     "metadata": {},
     "output_type": "display_data"
    },
    {
     "data": {
      "application/vnd.jupyter.widget-view+json": {
       "model_id": "",
       "version_major": 2,
       "version_minor": 0
      },
      "text/plain": [
       "FloatProgress(value=0.0, bar_style='info', description='Progress:', layout=Layout(height='25px', width='50%'),…"
      ]
     },
     "metadata": {},
     "output_type": "display_data"
    },
    {
     "name": "stdout",
     "output_type": "stream",
     "text": [
      "+--------------------+--------------------+--------------------+---------+----------+----+\n",
      "|         business_id|             user_id|           review_id|bus_stars|user_stars|year|\n",
      "+--------------------+--------------------+--------------------+---------+----------+----+\n",
      "|-MhfebM0QIsKt87iD...|OwjRMXRC0KyPrIlcj...|xQY8N_XvtGbearJ5X...|      3.5|       2.0|2015|\n",
      "|lbrU8StCq3yDfr-QM...|nIJD_7ZXHq-FX8byP...|UmFMZ8PyXZTY2Qcwz...|      1.5|       1.0|2013|\n",
      "|HQl28KMwrEKHqhFrr...|V34qejxNsCbcgD8C0...|LG2ZaYiOgpr2DK_90...|      4.0|       5.0|2015|\n",
      "|5JxlZaqCnk1MnbgRi...|ofKDkJKXSKZXu5xJN...|i6g_oA9Yf9Y31qt0w...|      3.5|       1.0|2011|\n",
      "|IS4cv902ykd8wj1TR...|UgMW8bLE0QMJDCkQ1...|6TdNDKywdbjoTkize...|      3.5|       4.0|2017|\n",
      "+--------------------+--------------------+--------------------+---------+----------+----+\n",
      "only showing top 5 rows"
     ]
    }
   ],
   "source": [
    "from pyspark.sql.functions import to_date, year\n",
    "\n",
    "bus_temp = df.select('business_id','stars').withColumnRenamed('stars', 'bus_stars')\n",
    "rev_temp = review.select('review_id', 'business_id', 'user_id', 'stars',\n",
    "                         year(to_date(review.date, 'yyyy-MM-dd HH:mm:ss')).alias('year')).withColumnRenamed('stars', 'user_stars')\n",
    "bus_rev = rev_temp.join(bus_temp, on = ['business_id'], how = 'left')\n",
    "bus_rev = bus_rev.select('business_id', 'user_id', 'review_id', 'bus_stars', 'user_stars','year')\n",
    "\n",
    "bus_rev.show(5)"
   ]
  },
  {
   "cell_type": "markdown",
   "metadata": {},
   "source": [
    "### Join User with Review & Business Data"
   ]
  },
  {
   "cell_type": "code",
   "execution_count": 26,
   "metadata": {},
   "outputs": [
    {
     "data": {
      "application/vnd.jupyter.widget-view+json": {
       "model_id": "1cad2e4352884d1a94d4c875735f3092",
       "version_major": 2,
       "version_minor": 0
      },
      "text/plain": [
       "VBox()"
      ]
     },
     "metadata": {},
     "output_type": "display_data"
    },
    {
     "data": {
      "application/vnd.jupyter.widget-view+json": {
       "model_id": "",
       "version_major": 2,
       "version_minor": 0
      },
      "text/plain": [
       "FloatProgress(value=0.0, bar_style='info', description='Progress:', layout=Layout(height='25px', width='50%'),…"
      ]
     },
     "metadata": {},
     "output_type": "display_data"
    },
    {
     "name": "stdout",
     "output_type": "stream",
     "text": [
      "+--------------------+--------------------+--------------------+---------+----------+----+-----+\n",
      "|             user_id|         business_id|           review_id|bus_stars|user_stars|year|elite|\n",
      "+--------------------+--------------------+--------------------+---------+----------+----+-----+\n",
      "|-0Ji0nOyFe-4yo8BK...|pmrHuQiy25xKB86tb...|a0r23pA6D4HDLb9P5...|      4.0|       4.0|2014| null|\n",
      "|-0XPr1ilUAfp-yIXZ...|QhwaGi1niDeVEHMRt...|DfAjJ3KCimOdqplv4...|      2.5|       2.0|2012| null|\n",
      "|-1KKYzibGPyUX-Mwk...|L772e6l2Yd0DJEyCB...|TbU3S2kWmfajlVov3...|      3.0|       4.0|2014| 2011|\n",
      "|-1KKYzibGPyUX-Mwk...|L772e6l2Yd0DJEyCB...|TbU3S2kWmfajlVov3...|      3.0|       4.0|2014| 2012|\n",
      "|-1KKYzibGPyUX-Mwk...|L772e6l2Yd0DJEyCB...|TbU3S2kWmfajlVov3...|      3.0|       4.0|2014| 2013|\n",
      "+--------------------+--------------------+--------------------+---------+----------+----+-----+\n",
      "only showing top 5 rows"
     ]
    }
   ],
   "source": [
    "user_bus_rev = bus_rev.join(temp_user, on = ['user_id'], how = 'outer')\n",
    "user_bus_rev.show(5)"
   ]
  },
  {
   "cell_type": "markdown",
   "metadata": {},
   "source": [
    "### Non Elite Data"
   ]
  },
  {
   "cell_type": "code",
   "execution_count": 27,
   "metadata": {},
   "outputs": [
    {
     "data": {
      "application/vnd.jupyter.widget-view+json": {
       "model_id": "fe0c1ebe17f648faa70988902da4ffd8",
       "version_major": 2,
       "version_minor": 0
      },
      "text/plain": [
       "VBox()"
      ]
     },
     "metadata": {},
     "output_type": "display_data"
    },
    {
     "data": {
      "application/vnd.jupyter.widget-view+json": {
       "model_id": "",
       "version_major": 2,
       "version_minor": 0
      },
      "text/plain": [
       "FloatProgress(value=0.0, bar_style='info', description='Progress:', layout=Layout(height='25px', width='50%'),…"
      ]
     },
     "metadata": {},
     "output_type": "display_data"
    },
    {
     "name": "stdout",
     "output_type": "stream",
     "text": [
      "+--------------------+--------------------+--------------------+---------+----------+----+-----+\n",
      "|             user_id|         business_id|           review_id|bus_stars|user_stars|year|elite|\n",
      "+--------------------+--------------------+--------------------+---------+----------+----+-----+\n",
      "|-0Ji0nOyFe-4yo8BK...|pmrHuQiy25xKB86tb...|a0r23pA6D4HDLb9P5...|      4.0|       4.0|2014| null|\n",
      "|-0XPr1ilUAfp-yIXZ...|QhwaGi1niDeVEHMRt...|DfAjJ3KCimOdqplv4...|      2.5|       2.0|2012| null|\n",
      "|-1zQA2f_syMAdA04P...|DyYS-JKXlW2PCr_Gt...|y0BLDiU8nQi22t9OF...|      3.5|       5.0|2017| null|\n",
      "|-1zQA2f_syMAdA04P...|aNe8ofTYrealxqv7V...|08j8zUlyJylKcJa_r...|      3.5|       5.0|2016| null|\n",
      "|-1zQA2f_syMAdA04P...|5c-b0ALS_DyLvRCGr...|_aY8ReBavQVGHhCh7...|      2.5|       1.0|2017| null|\n",
      "+--------------------+--------------------+--------------------+---------+----------+----+-----+\n",
      "only showing top 5 rows"
     ]
    }
   ],
   "source": [
    "#Filter out Non Elite data only\n",
    "non_elite = user_bus_rev.filter(user_bus_rev.elite.isNull())\n",
    "non_elite.show(5)"
   ]
  },
  {
   "cell_type": "markdown",
   "metadata": {},
   "source": [
    "### Elite Data"
   ]
  },
  {
   "cell_type": "code",
   "execution_count": 28,
   "metadata": {},
   "outputs": [
    {
     "data": {
      "application/vnd.jupyter.widget-view+json": {
       "model_id": "2bdde34638f743f9b08515e0850ba75a",
       "version_major": 2,
       "version_minor": 0
      },
      "text/plain": [
       "VBox()"
      ]
     },
     "metadata": {},
     "output_type": "display_data"
    },
    {
     "data": {
      "application/vnd.jupyter.widget-view+json": {
       "model_id": "",
       "version_major": 2,
       "version_minor": 0
      },
      "text/plain": [
       "FloatProgress(value=0.0, bar_style='info', description='Progress:', layout=Layout(height='25px', width='50%'),…"
      ]
     },
     "metadata": {},
     "output_type": "display_data"
    },
    {
     "name": "stdout",
     "output_type": "stream",
     "text": [
      "+--------------------+--------------------+--------------------+---------+----------+----+-----+\n",
      "|             user_id|         business_id|           review_id|bus_stars|user_stars|year|elite|\n",
      "+--------------------+--------------------+--------------------+---------+----------+----+-----+\n",
      "|FZQXGfmkMASFWq3Jn...|DxgSVufr_6y_Rc63C...|6oALQf6cOf7bxSkB6...|      4.5|       4.0|2006| 2006|\n",
      "|FZQXGfmkMASFWq3Jn...|tRUBzjp-25SdY-qFW...|tvhdNSGqn5IAatYiI...|      3.0|       4.0|2006| 2006|\n",
      "|FZQXGfmkMASFWq3Jn...|KVsv8wRGnLX8QWoNZ...|oS5Baq2qIOh-3fNRx...|      4.0|       3.0|2006| 2006|\n",
      "|FZQXGfmkMASFWq3Jn...|ujHiaprwCQ5ewziu0...|XJ4N_sV7p59_Y79iQ...|      3.5|       5.0|2006| 2006|\n",
      "|jwMDC4ZCoiDXl9qZt...|lyiIwDxQ8NdjxMk9h...|emdtohZMghVEvSbqv...|      3.5|       3.0|2006| 2006|\n",
      "+--------------------+--------------------+--------------------+---------+----------+----+-----+\n",
      "only showing top 5 rows"
     ]
    }
   ],
   "source": [
    "#Filter out Elite data only\n",
    "elite = user_bus_rev.filter(user_bus_rev.year == user_bus_rev.elite)\n",
    "elite.show(5)"
   ]
  },
  {
   "cell_type": "markdown",
   "metadata": {},
   "source": [
    "### Calculate the difference of average star rating over the years\n",
    "\n",
    "**1. Non Elite Star Rating Average Difference**"
   ]
  },
  {
   "cell_type": "code",
   "execution_count": 29,
   "metadata": {},
   "outputs": [
    {
     "data": {
      "application/vnd.jupyter.widget-view+json": {
       "model_id": "521f1dfd397f423c90998e711358f878",
       "version_major": 2,
       "version_minor": 0
      },
      "text/plain": [
       "VBox()"
      ]
     },
     "metadata": {},
     "output_type": "display_data"
    },
    {
     "data": {
      "application/vnd.jupyter.widget-view+json": {
       "model_id": "",
       "version_major": 2,
       "version_minor": 0
      },
      "text/plain": [
       "FloatProgress(value=0.0, bar_style='info', description='Progress:', layout=Layout(height='25px', width='50%'),…"
      ]
     },
     "metadata": {},
     "output_type": "display_data"
    }
   ],
   "source": [
    "ne_star = non_elite.withColumn('non_elite_star_diff', non_elite.user_stars - non_elite.bus_stars)\n",
    "ne_star = ne_star.groupBy('year').agg({'non_elite_star_diff':'avg'}).sort('year')"
   ]
  },
  {
   "cell_type": "code",
   "execution_count": 30,
   "metadata": {},
   "outputs": [
    {
     "data": {
      "application/vnd.jupyter.widget-view+json": {
       "model_id": "7c6dce55b48c4a5ca2d65956f520487e",
       "version_major": 2,
       "version_minor": 0
      },
      "text/plain": [
       "VBox()"
      ]
     },
     "metadata": {},
     "output_type": "display_data"
    },
    {
     "data": {
      "application/vnd.jupyter.widget-view+json": {
       "model_id": "",
       "version_major": 2,
       "version_minor": 0
      },
      "text/plain": [
       "FloatProgress(value=0.0, bar_style='info', description='Progress:', layout=Layout(height='25px', width='50%'),…"
      ]
     },
     "metadata": {},
     "output_type": "display_data"
    },
    {
     "name": "stdout",
     "output_type": "stream",
     "text": [
      "+----+------------------------+\n",
      "|year|avg(non_elite_star_diff)|\n",
      "+----+------------------------+\n",
      "|2004|                    0.75|\n",
      "|2005|      0.5068493150684932|\n",
      "|2006|      0.2710880195599022|\n",
      "|2007|      0.2153315081537912|\n",
      "|2008|      0.1168708597478453|\n",
      "|2009|     0.06386955877998224|\n",
      "|2010|     0.05933814048994795|\n",
      "|2011|    0.024171091827483487|\n",
      "|2012|    -0.02147622582011381|\n",
      "|2013|     -0.0282225618404219|\n",
      "|2014|    -0.00922987091908...|\n",
      "|2015|    -0.01239640934334...|\n",
      "|2016|    -0.02052381933019378|\n",
      "|2017|    -0.03884251956445166|\n",
      "|2018|    -0.06250701306861961|\n",
      "|2019|    -0.10160517923312276|\n",
      "+----+------------------------+"
     ]
    }
   ],
   "source": [
    "ne_star.show()"
   ]
  },
  {
   "cell_type": "markdown",
   "metadata": {},
   "source": [
    "**2. Elite Star Rating Average Difference**"
   ]
  },
  {
   "cell_type": "code",
   "execution_count": 31,
   "metadata": {},
   "outputs": [
    {
     "data": {
      "application/vnd.jupyter.widget-view+json": {
       "model_id": "777b350aec184b5c8a45cb865732af74",
       "version_major": 2,
       "version_minor": 0
      },
      "text/plain": [
       "VBox()"
      ]
     },
     "metadata": {},
     "output_type": "display_data"
    },
    {
     "data": {
      "application/vnd.jupyter.widget-view+json": {
       "model_id": "",
       "version_major": 2,
       "version_minor": 0
      },
      "text/plain": [
       "FloatProgress(value=0.0, bar_style='info', description='Progress:', layout=Layout(height='25px', width='50%'),…"
      ]
     },
     "metadata": {},
     "output_type": "display_data"
    },
    {
     "name": "stdout",
     "output_type": "stream",
     "text": [
      "+----+---------------------+\n",
      "|year|avg(elite_stars_diff)|\n",
      "+----+---------------------+\n",
      "|2006|   0.2660586835844568|\n",
      "|2007|  0.24943687018375815|\n",
      "|2008|  0.13426656151419558|\n",
      "|2009|  0.12784468991216397|\n",
      "|2010|  0.11065668202764976|\n",
      "|2011|   0.1082114856102697|\n",
      "|2012|  0.11504091993151973|\n",
      "|2013|  0.09694511403671426|\n",
      "|2014|  0.08177112679418984|\n",
      "|2015|   0.0918269411014884|\n",
      "|2016|  0.10704832237478244|\n",
      "|2017|  0.12723198828731686|\n",
      "|2018|  0.16126663100605382|\n",
      "+----+---------------------+"
     ]
    }
   ],
   "source": [
    "elite_star = elite.withColumn('elite_stars_diff', elite.user_stars - elite.bus_stars)\n",
    "elite_star = elite_star.groupBy('year').agg({'elite_stars_diff':'avg'}).sort('year')\n",
    "elite_star.show()"
   ]
  },
  {
   "cell_type": "markdown",
   "metadata": {},
   "source": [
    "### Joining the Non Elite and Elite data"
   ]
  },
  {
   "cell_type": "code",
   "execution_count": 32,
   "metadata": {},
   "outputs": [
    {
     "data": {
      "application/vnd.jupyter.widget-view+json": {
       "model_id": "c56e5a3569f741ae8fef5f460bd0bcc7",
       "version_major": 2,
       "version_minor": 0
      },
      "text/plain": [
       "VBox()"
      ]
     },
     "metadata": {},
     "output_type": "display_data"
    },
    {
     "data": {
      "application/vnd.jupyter.widget-view+json": {
       "model_id": "",
       "version_major": 2,
       "version_minor": 0
      },
      "text/plain": [
       "FloatProgress(value=0.0, bar_style='info', description='Progress:', layout=Layout(height='25px', width='50%'),…"
      ]
     },
     "metadata": {},
     "output_type": "display_data"
    },
    {
     "name": "stdout",
     "output_type": "stream",
     "text": [
      "+----+---------------------+------------------------+\n",
      "|year|avg(elite_stars_diff)|avg(non_elite_star_diff)|\n",
      "+----+---------------------+------------------------+\n",
      "|2006|   0.2660586835844568|      0.2710880195599022|\n",
      "|2007|  0.24943687018375815|      0.2153315081537912|\n",
      "|2008|  0.13426656151419558|      0.1168708597478453|\n",
      "|2009|  0.12784468991216397|     0.06386955877998224|\n",
      "|2010|  0.11065668202764976|     0.05933814048994795|\n",
      "|2011|   0.1082114856102697|    0.024171091827483487|\n",
      "|2012|  0.11504091993151973|    -0.02147622582011381|\n",
      "|2013|  0.09694511403671426|     -0.0282225618404219|\n",
      "|2014|  0.08177112679418984|    -0.00922987091908...|\n",
      "|2015|   0.0918269411014884|    -0.01239640934334...|\n",
      "|2016|  0.10704832237478244|    -0.02052381933019378|\n",
      "|2017|  0.12723198828731686|    -0.03884251956445166|\n",
      "|2018|  0.16126663100605382|    -0.06250701306861961|\n",
      "+----+---------------------+------------------------+"
     ]
    }
   ],
   "source": [
    "star_diff = elite_star.join(ne_star, on = ['year'], how = 'inner')\n",
    "star_diff = star_diff.sort('year')\n",
    "star_diff.show()"
   ]
  },
  {
   "cell_type": "markdown",
   "metadata": {},
   "source": [
    "### Plotting the Difference between Star Rating of Elite & Non Elite Yelp over time"
   ]
  },
  {
   "cell_type": "code",
   "execution_count": 33,
   "metadata": {},
   "outputs": [
    {
     "data": {
      "application/vnd.jupyter.widget-view+json": {
       "model_id": "79e559ee8e1a4f83840c008c64269de3",
       "version_major": 2,
       "version_minor": 0
      },
      "text/plain": [
       "VBox()"
      ]
     },
     "metadata": {},
     "output_type": "display_data"
    },
    {
     "data": {
      "application/vnd.jupyter.widget-view+json": {
       "model_id": "",
       "version_major": 2,
       "version_minor": 0
      },
      "text/plain": [
       "FloatProgress(value=0.0, bar_style='info', description='Progress:', layout=Layout(height='25px', width='50%'),…"
      ]
     },
     "metadata": {},
     "output_type": "display_data"
    }
   ],
   "source": [
    "#Change SparkDF to Pandas in order to plot the data\n",
    "star_diff = star_diff.toPandas()"
   ]
  },
  {
   "cell_type": "code",
   "execution_count": 46,
   "metadata": {},
   "outputs": [
    {
     "data": {
      "application/vnd.jupyter.widget-view+json": {
       "model_id": "a6aac7efc8f441f8bb359a10ca083a50",
       "version_major": 2,
       "version_minor": 0
      },
      "text/plain": [
       "VBox()"
      ]
     },
     "metadata": {},
     "output_type": "display_data"
    },
    {
     "data": {
      "application/vnd.jupyter.widget-view+json": {
       "model_id": "",
       "version_major": 2,
       "version_minor": 0
      },
      "text/plain": [
       "FloatProgress(value=0.0, bar_style='info', description='Progress:', layout=Layout(height='25px', width='50%'),…"
      ]
     },
     "metadata": {},
     "output_type": "display_data"
    },
    {
     "data": {
      "image/png": "[encoded data removed]",
      "text/plain": [
       "<IPython.core.display.Image object>"
      ]
     },
     "metadata": {},
     "output_type": "display_data"
    }
   ],
   "source": [
    "plt.figure(figsize = (15, 8))\n",
    "\n",
    "plt.plot('year', 'avg(elite_stars_diff)', data = star_diff, label = 'Difference Avg Elite Star & Bus Star')\n",
    "plt.plot('year', 'avg(non_elite_star_diff)', data = star_diff, label = 'Difference Avg Non Elite Star & Bus Star')\n",
    "plt.axhline(ls='--', color='purple')\n",
    "\n",
    "plt.legend(loc = 'upper right')\n",
    "\n",
    "plt.title('Average Difference between Star Rating of Elite & Non Elite Yelp over time', fontsize = 20, weight = 'bold')\n",
    "\n",
    "plt.xlabel('Year', fontsize = 15)\n",
    "plt.ylabel('Average Star Rating Difference', fontsize = 15)\n",
    "\n",
    "plt.tight_layout()\n",
    "\n",
    "%matplot plt"
   ]
  },
  {
   "cell_type": "markdown",
   "metadata": {},
   "source": [
    "Based on the time series plot above, there's a difference of rating between elite and non elite users. \n",
    "\n",
    "From 2006 to 2008, both non elite and elite users have similar average star difference.\n",
    "\n",
    "Since 2009, we start seeing a significant difference in rating from both group. While non elite users have a downward trend (the difference between rating of non elite users and the real rating of business are more similar to each other over the years), the elite group average star rating difference increases over the year.\n",
    "\n",
    "Moreover, the elite users line is always above 0 and the elite group always has higher value than non elite user over the years, except for 2006."
   ]
  },
  {
   "cell_type": "markdown",
   "metadata": {},
   "source": [
    "### Conclusion\n",
    "We should **NOT** trust the elite reviews because they tend to overrate businesses. Elite group seems to give higher ratings to business than the real business rating should be"
   ]
  }
 ],
 "metadata": {
  "kernelspec": {
   "display_name": "PySpark",
   "language": "",
   "name": "pysparkkernel"
  },
  "language_info": {
   "codemirror_mode": {
    "name": "python",
    "version": 2
   },
   "mimetype": "text/x-python",
   "name": "pyspark",
   "pygments_lexer": "python2"
  }
 },
 "nbformat": 4,
 "nbformat_minor": 4
}
